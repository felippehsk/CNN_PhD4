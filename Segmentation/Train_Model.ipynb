{
 "cells": [
  {
   "cell_type": "code",
   "execution_count": 1,
   "metadata": {},
   "outputs": [
    {
     "name": "stdout",
     "output_type": "stream",
     "text": [
      "CUDA ok\n"
     ]
    }
   ],
   "source": [
    "import torch\n",
    "import torch.nn.functional as F\n",
    "import torch.backends.cudnn as cudnn\n",
    "import torch.optim.lr_scheduler\n",
    "from torch.autograd import Variable\n",
    "from matplotlib import pyplot as plt\n",
    "import numpy as np\n",
    "import os\n",
    "import cv2\n",
    "import pickle\n",
    "import time\n",
    "from argparse import ArgumentParser\n",
    "\n",
    "# Modificar conforme necessario:\n",
    "import cnn.DataSet as myDataLoader\n",
    "import cnn.loadData as ld\n",
    "from cnn import SegmentationModel as net\n",
    "\n",
    "from cnn.train_utils import train, val, netParams, save_checkpoint, poly_lr_scheduler\n",
    "\n",
    "import cnn.Transforms as myTransforms\n",
    "from cnn.IOUEval import iouEval\n",
    "from livelossplot import PlotLosses\n",
    "liveloss = PlotLosses()\n",
    "\n",
    "device = 'cuda' if torch.cuda.is_available() else 'cpu'\n",
    "print('CUDA ok' if device == 'cuda' else 'CUDA not ok')"
   ]
  },
  {
   "cell_type": "code",
   "execution_count": 2,
   "metadata": {},
   "outputs": [],
   "source": [
    "def trainValidateSegmentation(args):\n",
    "    '''\n",
    "    Main function for trainign and validation\n",
    "    :param args: global arguments\n",
    "    :return: None\n",
    "    '''\n",
    "    \n",
    "    # load the model\n",
    "    cuda_available = torch.cuda.is_available()\n",
    "    num_gpus = torch.cuda.device_count()\n",
    "    model = net.EESPNet_Seg(args.classes, s=args.s, pretrained=args.pretrained, gpus=num_gpus)\n",
    "\n",
    "    # create the directory if not exist\n",
    "    if not os.path.exists(args.savedir):\n",
    "        os.mkdir(args.savedir)\n",
    "\n",
    "    # check if processed data file exists or not\n",
    "    if True or not os.path.isfile(args.cached_data_file):\n",
    "        dataLoad = ld.LoadData(args.data_dir, args.classes, args.cached_data_file)\n",
    "        data = dataLoad.processData()\n",
    "        if data is None:\n",
    "            print('Error while pickling data. Please check.')\n",
    "            exit(-1)\n",
    "    else:\n",
    "        data = pickle.load(open(args.cached_data_file, \"rb\"))\n",
    "\n",
    "\n",
    "\n",
    "    if cuda_available:\n",
    "        args.onGPU = True\n",
    "        model = model.cuda()\n",
    "\n",
    "    total_paramters = netParams(model)\n",
    "    print('Total network parameters: ' + str(total_paramters))\n",
    "\n",
    "    # define optimization criteria\n",
    "    weight = torch.from_numpy(data['classWeights']) # convert the numpy array to torch\n",
    "    if args.onGPU:\n",
    "        weight = weight.cuda()\n",
    "\n",
    "    criteria = torch.nn.MSELoss()\n",
    "\n",
    "    if args.onGPU:\n",
    "        criteria = criteria.cuda()\n",
    "        \n",
    "    print('Data statistics')\n",
    "    print(data['mean'], data['std'])\n",
    "    print(data['classWeights'])\n",
    "\n",
    "    #compose the data with transforms\n",
    "    trainDataset = myTransforms.Compose([\n",
    "        myTransforms.RandomFlip(),\n",
    "        myTransforms.ToTensor(args.scaleIn),\n",
    "        #\n",
    "    ])\n",
    "    \n",
    "    valDataset = myTransforms.Compose([\n",
    "        myTransforms.ToTensor(args.scaleIn),\n",
    "        #\n",
    "    ])\n",
    "\n",
    "    # since we training from scratch, we create data loaders at different scales\n",
    "    # so that we can generate more augmented data and prevent the network from overfitting\n",
    "\n",
    "    trainLoader = torch.utils.data.DataLoader(\n",
    "        myDataLoader.MyDataset(data['trainIm'], data['trainAnnot'], transform=trainDataset),\n",
    "        batch_size=args.batch_size, shuffle=True, num_workers=args.num_workers, pin_memory=True)\n",
    "\n",
    "    valLoader = torch.utils.data.DataLoader(\n",
    "        myDataLoader.MyDataset(data['valIm'], data['valAnnot'], transform=valDataset),\n",
    "        batch_size=args.batch_size, shuffle=False, num_workers=args.num_workers, pin_memory=True)\n",
    "\n",
    "    if args.onGPU:\n",
    "        cudnn.benchmark = True\n",
    "\n",
    "    start_epoch = 0\n",
    "\n",
    "    if args.resume:\n",
    "        if os.path.isfile(args.resumeLoc):\n",
    "            print(\"=> loading checkpoint '{}'\".format(args.resumeLoc))\n",
    "            checkpoint = torch.load(args.resumeLoc)\n",
    "            start_epoch = checkpoint['epoch']\n",
    "            #args.lr = checkpoint['lr']\n",
    "            model.load_state_dict(checkpoint['state_dict'])\n",
    "            print(\"=> loaded checkpoint '{}' (epoch {})\"\n",
    "                .format(args.resumeLoc, checkpoint['epoch']))\n",
    "        else:\n",
    "            print(\"=> no checkpoint found at '{}'\".format(args.resumeLoc))\n",
    "    \n",
    "\n",
    "    logFileLoc = args.savedir + args.logFile\n",
    "    if os.path.isfile(logFileLoc):\n",
    "        logger = open(logFileLoc, 'a')\n",
    "    else:\n",
    "        logger = open(logFileLoc, 'w')\n",
    "        logger.write(\"Parameters: %s\" % (str(total_paramters)))\n",
    "        logger.write(\"\\n%s\\t%s\\t%s\" % ('Epoch', 'Loss(Tr)', 'Loss(val)'))\n",
    "    logger.flush()\n",
    "\n",
    "    optimizer = torch.optim.Adam(model.parameters(), args.lr, (0.9, 0.999), eps=1e-08, weight_decay=5e-4)\n",
    "    # we step the loss by 2 after step size is reached\n",
    "    scheduler = torch.optim.lr_scheduler.StepLR(optimizer, step_size=args.step_loss, gamma=0.5)\n",
    "\n",
    "\n",
    "    liveloss = PlotLosses()\n",
    "    for epoch in range(start_epoch, args.max_epochs):\n",
    "\n",
    "        scheduler.step(epoch)\n",
    "        lr = 0\n",
    "        for param_group in optimizer.param_groups:\n",
    "            lr = param_group['lr']\n",
    "        print(\"Epoch: \" + str(epoch) + \" Learning rate: \" +  str(lr))\n",
    "\n",
    "        # train for one epoch\n",
    "        # We consider 1 epoch with all the training data (at different scales)\n",
    "        lossTr = train(args, trainLoader, model, criteria, optimizer, epoch)\n",
    "\n",
    "        # evaluate on validation set\n",
    "        lossVal = val(args, valLoader, model, criteria)\n",
    "        \n",
    "            \n",
    "        save_checkpoint({\n",
    "            'epoch': epoch + 1,\n",
    "            'arch': str(model),\n",
    "            'state_dict': model.state_dict(),\n",
    "            'optimizer': optimizer.state_dict(),\n",
    "            'lossTr': lossTr,\n",
    "            'lossVal': lossVal,\n",
    "            'lr': lr\n",
    "        }, args.savedir + 'checkpoint.pth.tar')\n",
    "\n",
    "        #save the model also\n",
    "        model_file_name = args.savedir + '/model_' + str(epoch + 1) + '.pth'\n",
    "        if epoch < 10 or  epoch % 10 == 0:\n",
    "            torch.save(model.state_dict(), model_file_name)\n",
    "\n",
    "        logger.write(\"\\n%d\\t\\t%.4f\\t\\t%.4f\\t\\t%.7f\" % (epoch, lossTr, lossVal, lr))\n",
    "        logger.flush()\n",
    "        print(\"Epoch : \" + str(epoch) + ' Details')\n",
    "        print(\"\\nEpoch No.: %d\\tTrain Loss = %.4f\\tVal Loss = %.4f\" % (epoch, lossTr, lossVal))\n",
    "        liveloss.update({\n",
    "            'log loss': lossTr,\n",
    "            'val_log loss': lossVal\n",
    "        })\n",
    "        liveloss.draw()\n",
    "    \n",
    "    logger.close()"
   ]
  },
  {
   "cell_type": "code",
   "execution_count": 3,
   "metadata": {},
   "outputs": [],
   "source": [
    "def back_transform(data, image):\n",
    "    \"\"\"Given mean: (R, G, B) and std: (R, G, B),\n",
    "    will normalize each channel of the torch.*Tensor, i.e.\n",
    "    channel = (channel - mean) / std\n",
    "    \"\"\"\n",
    "    image = np.moveaxis(image, 0, 2)\n",
    "    for i in range(3):\n",
    "        image[:,:, i] *= data['std'][i]\n",
    "    for i in range(3):\n",
    "        image[:,:,i] += data['mean'][i]\n",
    "    image = image.astype(np.int)\n",
    "    \n",
    "    return image[:,:,[2,1,0]]\n",
    "\n",
    "def compare(data, fig, rows, cols ):\n",
    "    for i in range (0,len(data)):\n",
    "        plt.figure(fig)\n",
    "        plt.subplot(rows, cols, i+1)\n",
    "        plt.imshow(data[i])\n",
    "    return"
   ]
  },
  {
   "cell_type": "code",
   "execution_count": 4,
   "metadata": {},
   "outputs": [],
   "source": [
    "def colorir(cat):\n",
    "    h, w = cat.shape[:2]\n",
    "    msk = np.zeros((h,w,3), dtype = 'uint8')\n",
    "    msk[cat == 1] = [255,0,0]\n",
    "    msk[cat == 2] = [0,255,0]\n",
    "    msk[cat == 3] = [0,0,255]\n",
    "    return(msk)"
   ]
  },
  {
   "cell_type": "code",
   "execution_count": null,
   "metadata": {},
   "outputs": [],
   "source": [
    "class MyArgs():\n",
    "    def __init__(self):\n",
    "        self.model = 'ESPNet'\n",
    "        self.data_dir = './data/'\n",
    "        self.input_dir = '../../Datasets/'\n",
    "        self.scaleIn =  1\n",
    "        self.max_epochs =  151\n",
    "        self.num_workers =  4\n",
    "        self.batch_size =  4\n",
    "        self.step_loss =  100\n",
    "        self.lr =  0.005\n",
    "        self.savedir =  './data/resuts/'\n",
    "        self.classes =  3\n",
    "        self.cached_data_file =  './data/Stats.p'\n",
    "        self.logFile =  'trainValLog.txt'\n",
    "        self.pretrained =  ''\n",
    "        self.s =  0.5\n",
    "        self.resume =  True\n",
    "        self.resumeLoc =  './data/resuts/checkpoint.pth.tar'\n",
    "        self.onGPU =  True\n",
    "        \n",
    "    def __repr__(self):\n",
    "        return str(self.__dict__)\n",
    "    \n",
    "    def __str__(self):\n",
    "        return str(self.__dict__)"
   ]
  },
  {
   "cell_type": "code",
   "execution_count": null,
   "metadata": {},
   "outputs": [
    {
     "data": {
      "text/plain": [
       "{'model': 'ESPNet', 'data_dir': './data/', 'input_dir': '../../Datasets/', 'scaleIn': 1, 'max_epochs': 151, 'num_workers': 4, 'batch_size': 4, 'step_loss': 100, 'lr': 0.005, 'savedir': './data/resuts/', 'classes': 3, 'cached_data_file': './data/Stats.p', 'logFile': 'trainValLog.txt', 'pretrained': '', 's': 0.5, 'resume': True, 'resumeLoc': './data/resuts/checkpoint.pth.tar', 'onGPU': True}"
      ]
     },
     "execution_count": 6,
     "metadata": {},
     "output_type": "execute_result"
    }
   ],
   "source": [
    "args = MyArgs()\n",
    "args"
   ]
  },
  {
   "cell_type": "code",
   "execution_count": null,
   "metadata": {},
   "outputs": [],
   "source": [
    "im_dir = args.input_dir\n",
    "img_ext = 'x.npy'\n",
    "msk_ext = 'y.npy'\n",
    "x_folder = 'OFPE'\n",
    "y_folder = 'OFPE'\n",
    "imfy = sorted(os.listdir(os.path.join(im_dir, y_folder)))\n",
    "imfy = [i for i in imfy if i.endswith(msk_ext)]\n",
    "imfx = [i.replace(msk_ext, img_ext) for i in imfy]\n",
    "imfs = [os.path.join(im_dir, x_folder,  imfx[i]) + ',' + os.path.join(im_dir, y_folder,  imfy[i]) for i in range(len(imfy))]\n",
    "imfs = np.array(imfs)\n",
    "\n",
    "im_train = np.array(range(len(imfs)))\n",
    "im_val = np.random.choice(im_train, 20, replace=False)\n",
    "im_train = np.setdiff1d(im_train,im_val)\n",
    "imfs = {'train':imfs[im_train], 'val':imfs[im_val]}\n",
    "for splt in imfs.keys():\n",
    "    with open(os.path.join(args.data_dir, splt + '.txt'), 'w') as file_handler:\n",
    "        for item in imfs.get(splt):\n",
    "            file_handler.write(\"{}\\n\".format(item.replace('\\\\', '/')))"
   ]
  },
  {
   "cell_type": "code",
   "execution_count": null,
   "metadata": {},
   "outputs": [
    {
     "data": {
      "image/png": "[encoded data removed]",
      "text/plain": [
       "<Figure size 864x576 with 1 Axes>"
      ]
     },
     "metadata": {
      "needs_background": "light"
     },
     "output_type": "display_data"
    },
    {
     "name": "stdout",
     "output_type": "stream",
     "text": [
      "log loss:\n",
      "training   (min:    0.840, max:    0.985, cur:    0.860)\n",
      "validation (min:    0.403, max:    0.436, cur:    0.403)\n",
      "Epoch: 132 Learning rate: 0.0025\n",
      "[0/20] loss: 0.687 time:0.48\n",
      "[1/20] loss: 0.733 time:0.39\n",
      "[2/20] loss: 0.976 time:0.40\n",
      "[3/20] loss: 0.784 time:0.40\n",
      "[4/20] loss: 0.768 time:0.37\n"
     ]
    }
   ],
   "source": [
    "trainValidateSegmentation(args)"
   ]
  },
  {
   "cell_type": "code",
   "execution_count": null,
   "metadata": {},
   "outputs": [],
   "source": [
    "model = net.EESPNet_Seg(args.classes, s=args.s)\n",
    "model_weight_file = './data/resuts/model_121.pth'\n",
    "model.load_state_dict(torch.load(model_weight_file))\n",
    "model = model.cuda()\n",
    "# set to evaluation mode\n",
    "model.eval()\n",
    "print(\"Model OK\")"
   ]
  },
  {
   "cell_type": "code",
   "execution_count": null,
   "metadata": {},
   "outputs": [],
   "source": [
    "data = pickle.load(open(args.cached_data_file, \"rb\"))\n",
    "args.batch_size = 1"
   ]
  },
  {
   "cell_type": "code",
   "execution_count": null,
   "metadata": {},
   "outputs": [],
   "source": [
    "#compose the data with transforms\n",
    "dataset_transformer = myTransforms.Compose([\n",
    "    myTransforms.ToTensor(args.scaleIn)\n",
    "])\n",
    "    \n",
    "valLoader = torch.utils.data.DataLoader(\n",
    "    myDataLoader.MyDataset(data['valIm'], data['valAnnot'], transform=dataset_transformer),\n",
    "    batch_size=args.batch_size, shuffle=False, num_workers=args.num_workers, pin_memory=True)\n",
    "\n",
    "trainLoader = torch.utils.data.DataLoader(\n",
    "    myDataLoader.MyDataset(data['trainIm'], data['trainAnnot'], transform=dataset_transformer),\n",
    "    batch_size=args.batch_size, shuffle=True, num_workers=args.num_workers, pin_memory=True)\n"
   ]
  },
  {
   "cell_type": "code",
   "execution_count": null,
   "metadata": {},
   "outputs": [],
   "source": [
    "torch.cuda.empty_cache() \n",
    "data_iter = iter(valLoader)\n",
    "# data_iter = iter(trainLoader)"
   ]
  },
  {
   "cell_type": "code",
   "execution_count": null,
   "metadata": {},
   "outputs": [],
   "source": [
    "data_t = data_iter.next()\n",
    "pred = model(data_t[0].to(device=device, dtype=torch.float))\n",
    "data_img = data_t[0].cpu().data.numpy()\n",
    "data_msk = data_t[1].cpu().data.numpy()\n",
    "data_pred = pred[0].cpu().data.numpy()"
   ]
  },
  {
   "cell_type": "code",
   "execution_count": null,
   "metadata": {},
   "outputs": [],
   "source": [
    "imgs_msk = [data_msk[0][i] for i in range(3)]\n",
    "imgs_pred = [data_pred[0][i] for i in range(3)]\n",
    "imgs_rgb = [data_img[0][i] for i in range(3)]\n",
    "plt.figure(figsize = (15,9))\n",
    "compare(imgs_rgb + imgs_pred + imgs_msk , fig=1, rows=3, cols=3)"
   ]
  },
  {
   "cell_type": "code",
   "execution_count": null,
   "metadata": {},
   "outputs": [],
   "source": []
  }
 ],
 "metadata": {
  "kernelspec": {
   "display_name": "Python 3",
   "language": "python",
   "name": "python3"
  },
  "language_info": {
   "codemirror_mode": {
    "name": "ipython",
    "version": 3
   },
   "file_extension": ".py",
   "mimetype": "text/x-python",
   "name": "python",
   "nbconvert_exporter": "python",
   "pygments_lexer": "ipython3",
   "version": "3.7.1"
  },
  "varInspector": {
   "cols": {
    "lenName": 16,
    "lenType": 16,
    "lenVar": 40
   },
   "kernels_config": {
    "python": {
     "delete_cmd_postfix": "",
     "delete_cmd_prefix": "del ",
     "library": "var_list.py",
     "varRefreshCmd": "print(var_dic_list())"
    },
    "r": {
     "delete_cmd_postfix": ") ",
     "delete_cmd_prefix": "rm(",
     "library": "var_list.r",
     "varRefreshCmd": "cat(var_dic_list()) "
    }
   },
   "types_to_exclude": [
    "module",
    "function",
    "builtin_function_or_method",
    "instance",
    "_Feature"
   ],
   "window_display": false
  }
 },
 "nbformat": 4,
 "nbformat_minor": 2
}
